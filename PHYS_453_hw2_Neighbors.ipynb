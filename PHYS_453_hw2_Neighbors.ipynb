{
  "cells": [
    {
      "cell_type": "markdown",
      "metadata": {
        "id": "view-in-github",
        "colab_type": "text"
      },
      "source": [
        "<a href=\"https://colab.research.google.com/github/Zyuuu-G/ML-classwork/blob/main/PHYS_453_hw2_Neighbors.ipynb\" target=\"_parent\"><img src=\"https://colab.research.google.com/assets/colab-badge.svg\" alt=\"Open In Colab\"/></a>"
      ]
    },
    {
      "cell_type": "markdown",
      "metadata": {
        "id": "ud30580LBK10"
      },
      "source": [
        "Name: Dr D  \n",
        "\n",
        "Ziyu Gao\n",
        "\n",
        "Class: PHYS453 - Pattern Recognition\n",
        "\n",
        "Date: Spring 2023\n",
        "\n",
        "# HW2 - Won't You Be My Neighbor?\n",
        "In this assignment you will write your own simplified version of a Nearest Neighbors classifier and test it out on the famous Iris dataset. The code for loading our data is below--use it without modifications.  You need to perform a few tasks to convince me that your classifier works.\n"
      ]
    },
    {
      "cell_type": "code",
      "execution_count": null,
      "metadata": {
        "id": "O-u84BieBK14"
      },
      "outputs": [],
      "source": [
        "import numpy as np\n",
        "import matplotlib.pyplot as plt\n",
        "\n",
        "from sklearn import datasets\n",
        "from sklearn import neighbors"
      ]
    },
    {
      "cell_type": "markdown",
      "metadata": {
        "id": "ZOnLVhrdBK16"
      },
      "source": [
        "## Requirements\n",
        "* \"Hours of coding will save you minutes of design\".  Make a plan first.\n",
        "* You do not _need_ to make a class or define functions, but some functions will make your life easier\n",
        "* You are submitting a **report**, not just a program.  You need to use the template below where your code is interspersed with markdown cells for discussion and explanations.\n",
        "* Yes: in the template you need to restate (not copy) the problem description and _explain_ the solution method.  **Do not skip any sections.**"
      ]
    },
    {
      "cell_type": "markdown",
      "metadata": {
        "id": "34vzbXv1BK18"
      },
      "source": [
        "## A note on functions:\n",
        "Defining functions makes your life easier.  For example, take a gross thing you have to do lots of times.  Instead of copying and pasting make a function\n"
      ]
    },
    {
      "cell_type": "code",
      "execution_count": null,
      "metadata": {
        "id": "XaV7wUIJBK19"
      },
      "outputs": [],
      "source": [
        "def dist2(a,b):\n",
        "    \"\"\"Returns the distance squared between 1D numpy arrays a and b\"\"\"\n",
        "    return( ((a-b)**2).sum() )"
      ]
    },
    {
      "cell_type": "code",
      "execution_count": null,
      "metadata": {
        "id": "jrLf8TR5BK1-",
        "outputId": "89cf025f-6a26-47c9-82c8-ac8a2c9b5be6",
        "colab": {
          "base_uri": "https://localhost:8080/"
        }
      },
      "outputs": [
        {
          "output_type": "execute_result",
          "data": {
            "text/plain": [
              "20"
            ]
          },
          "metadata": {},
          "execution_count": 5
        }
      ],
      "source": [
        "a = np.array([1,2])\n",
        "b = np.array([5,4])\n",
        "dist2(a,b)"
      ]
    },
    {
      "cell_type": "markdown",
      "metadata": {
        "id": "t3prCb3eBK2A"
      },
      "source": [
        "## The Iris Dataset\n",
        "We'll use the same dataset as the last homework, but lets keep all 3 species"
      ]
    },
    {
      "cell_type": "code",
      "source": [
        "data = datasets.load_iris()\n",
        "print('Features:\\t',data.feature_names)\n",
        "print('Targets:\\t',data.target_names)\n",
        "\n",
        "X = data.data\n",
        "y = data.target"
      ],
      "metadata": {
        "colab": {
          "base_uri": "https://localhost:8080/"
        },
        "id": "ovMcr2eEXsvT",
        "outputId": "5c46ab6e-eca2-49ca-ca9f-d978d1b8f534"
      },
      "execution_count": null,
      "outputs": [
        {
          "output_type": "stream",
          "name": "stdout",
          "text": [
            "Features:\t ['sepal length (cm)', 'sepal width (cm)', 'petal length (cm)', 'petal width (cm)']\n",
            "Targets:\t ['setosa' 'versicolor' 'virginica']\n"
          ]
        }
      ]
    },
    {
      "cell_type": "markdown",
      "metadata": {
        "id": "aOnA2jF0BK2D"
      },
      "source": [
        "The first four columns are input features, and the _species_ column is the target class.  Let's see what the species are:"
      ]
    },
    {
      "cell_type": "markdown",
      "metadata": {
        "id": "NMmn8dFrBK2F"
      },
      "source": [
        "# Problem 1\n",
        "We will look at only 2 features so we can easily make plots.  Your job is to find the nearest neighbor to a given point and make a plot to convince me your answer is right.  Your code is equivalent to the ```predict``` function of a $k=1$ nearest neighbors classifier.\n",
        "\n",
        "Here's some code to help get you started.\n"
      ]
    },
    {
      "cell_type": "code",
      "source": [
        "# The points to predict\n",
        "X_pred = np.array([[6.5, 3.8]])    # note that this is a 2D array like X"
      ],
      "metadata": {
        "id": "1uOunPKJaupX"
      },
      "execution_count": null,
      "outputs": []
    },
    {
      "cell_type": "code",
      "source": [
        "# Make a 2-feature version of X using only the first two columns\n",
        "X2 = X[:,[0,1]]   # 2D version\n",
        "print(X2.shape)"
      ],
      "metadata": {
        "colab": {
          "base_uri": "https://localhost:8080/"
        },
        "id": "BPs5rLFlY8nR",
        "outputId": "40c77356-a74c-460e-c3e4-c0ad25a680ba"
      },
      "execution_count": null,
      "outputs": [
        {
          "output_type": "stream",
          "name": "stdout",
          "text": [
            "(150, 2)\n"
          ]
        }
      ]
    },
    {
      "cell_type": "code",
      "source": [
        "# Define Custom Colors\n",
        "from matplotlib.colors import ListedColormap\n",
        "colors_bold = ['#FF0000', '#00FF00', '#0000FF']\n",
        "cmap_bold = ListedColormap(colors_bold)"
      ],
      "metadata": {
        "id": "Oa7YRC8oZSzZ"
      },
      "execution_count": null,
      "outputs": []
    },
    {
      "cell_type": "code",
      "source": [
        "plt.figure(figsize=(6,6))\n",
        "plt.scatter(X2[:, 0], X2[:, 1], marker='o', c=y,s=25, cmap=cmap_bold)\n",
        "plt.plot(X_pred[:,0], X_pred[:,1], 'ks')\n",
        "\n",
        "# Make Custom Legend\n",
        "for i in range(3):\n",
        "  plt.text(8.2,4.4-0.1*i,data.target_names[i],color=colors_bold[i])\n",
        "plt.text(8.2,4.1,'unknown',color='k')\n",
        "plt.xlabel(data.feature_names[0])\n",
        "plt.ylabel(data.feature_names[1])\n",
        "plt.title('Our 2D Dataset with 3 classes')\n",
        "\n",
        "plt.show()"
      ],
      "metadata": {
        "colab": {
          "base_uri": "https://localhost:8080/",
          "height": 404
        },
        "id": "3Ori5nVrZV6K",
        "outputId": "766a1f64-7a00-473e-f30d-863c3e84c44b"
      },
      "execution_count": null,
      "outputs": [
        {
          "output_type": "display_data",
          "data": {
            "text/plain": [
              "<Figure size 432x432 with 1 Axes>"
            ],
            "image/png": "[encoded data removed]"
          },
          "metadata": {
            "needs_background": "light"
          }
        }
      ]
    },
    {
      "cell_type": "markdown",
      "source": [
        "# Problem 2\n",
        "Now consider the (unplottable) 4-feature original dataset.  Your job is to predict the given points using all 4 features by finding the nearest neighbor."
      ],
      "metadata": {
        "id": "WbwuyeyNbxd2"
      }
    },
    {
      "cell_type": "code",
      "source": [
        "# Generate new dataset to classify\n",
        "means = X.mean(axis=0).reshape(1,-1)\n",
        "X_pred, _ = datasets.make_blobs(n_samples=10, n_features=4, centers=means, cluster_std = 0.7, random_state=0  )\n",
        "\n",
        "print('The points to classify:')\n",
        "print(X_pred)"
      ],
      "metadata": {
        "colab": {
          "base_uri": "https://localhost:8080/"
        },
        "id": "nBVPo2YucLi7",
        "outputId": "43d17957-91ba-4e5e-f032-9e72b36e6181"
      },
      "execution_count": null,
      "outputs": [
        {
          "output_type": "stream",
          "name": "stdout",
          "text": [
            "The points to classify:\n",
            "[[7.43216157 2.03927736 3.79003096 1.06830464]\n",
            " [5.22188331 1.67077581 3.5144615  1.30877761]\n",
            " [7.07816998 3.33744338 4.44311659 2.76795857]\n",
            " [6.70453681 3.89899923 3.48687123 0.98772141]\n",
            " [6.91627878 4.08588447 3.8664632  1.4640471 ]\n",
            " [5.77108014 3.34475228 3.8588305  2.21732479]\n",
            " [7.15062393 2.37323882 4.42306189 1.09338329]\n",
            " [6.88918868 2.91372255 3.97714739 0.60146632]\n",
            " [4.05624046 3.51486635 4.36310534 0.67981782]\n",
            " [6.37605974 3.14250584 4.06870426 1.43290536]]\n"
          ]
        }
      ]
    },
    {
      "cell_type": "code",
      "source": [
        "plt.figure(figsize=(6,6))\n",
        "plt.scatter(X2[:, 0], X2[:, 1], marker='o', c=y,s=25, cmap=cmap_bold)\n",
        "plt.plot(X_pred[:,0], X_pred[:,1], 'ks')\n",
        "\n",
        "# Make Custom Legend\n",
        "for i in range(3):\n",
        "  plt.text(8.2,4.4-0.1*i,data.target_names[i],color=colors_bold[i])\n",
        "plt.text(8.2,4.1,'unknown',color='k')\n",
        "plt.xlabel(data.feature_names[0])\n",
        "plt.ylabel(data.feature_names[1])\n",
        "plt.title('Our 2D Dataset with 3 classes')\n",
        "\n",
        "plt.show()"
      ],
      "metadata": {
        "colab": {
          "base_uri": "https://localhost:8080/",
          "height": 404
        },
        "id": "fTyGQ3nJ052X",
        "outputId": "4629462d-4a42-4820-b4f9-5453e777c842"
      },
      "execution_count": null,
      "outputs": [
        {
          "output_type": "display_data",
          "data": {
            "text/plain": [
              "<Figure size 432x432 with 1 Axes>"
            ],
            "image/png": "[encoded data removed]"
          },
          "metadata": {
            "needs_background": "light"
          }
        }
      ]
    },
    {
      "cell_type": "markdown",
      "source": [
        "Good luck.  Have fun."
      ],
      "metadata": {
        "id": "BFnP8khmELIp"
      }
    },
    {
      "cell_type": "markdown",
      "metadata": {
        "id": "4_FTleytEfzl"
      },
      "source": [
        "---\n",
        "# HOMEWORK REPORT TEMPLATE\n",
        "---"
      ]
    },
    {
      "cell_type": "code",
      "source": [
        "import numpy as np\n",
        "import matplotlib.pyplot as plt"
      ],
      "metadata": {
        "id": "fDGh7Qlqs5OA"
      },
      "execution_count": null,
      "outputs": []
    },
    {
      "cell_type": "markdown",
      "metadata": {
        "id": "uBTa5EmgEfzl"
      },
      "source": [
        "## Problem Description\n",
        "goes here\n",
        "\n",
        "3 species and 4 features"
      ]
    },
    {
      "cell_type": "markdown",
      "metadata": {
        "id": "FtDjGD-hEfzn"
      },
      "source": [
        "## Solution Method\n",
        "\n",
        "\n",
        "function that normalize and scale the features\n",
        "\n",
        "choose 20% len(feature) as testing[ ] 80% as training[ ] (maybe consider do it 5 times in total). that's for choosing k\n",
        "\n",
        "a function that take take the average length\n",
        "\n",
        "use the training data, write a func that finds the smallest distance. input (testing_normed) return (result,which is the species).\n",
        "\n",
        "use the training data to test the results.\n",
        "\n",
        "(maybe do it for all k numbers)\n"
      ]
    },
    {
      "cell_type": "markdown",
      "metadata": {
        "id": "WUKNVsBBEfzn"
      },
      "source": [
        "## Input\n",
        "Load and pre-process data"
      ]
    },
    {
      "cell_type": "code",
      "source": [
        "data = datasets.load_iris()\n",
        "print('Features:\\t',data.feature_names)\n",
        "print('Targets:\\t',data.target_names)\n",
        "\n",
        "X = data.data\n",
        "y = data.target"
      ],
      "metadata": {
        "colab": {
          "base_uri": "https://localhost:8080/"
        },
        "id": "2J6tqTg4sypZ",
        "outputId": "1d212ec9-e9dd-49fe-bd7c-9ccf6b57f77a"
      },
      "execution_count": null,
      "outputs": [
        {
          "output_type": "stream",
          "name": "stdout",
          "text": [
            "Features:\t ['sepal length (cm)', 'sepal width (cm)', 'petal length (cm)', 'petal width (cm)']\n",
            "Targets:\t ['setosa' 'versicolor' 'virginica']\n"
          ]
        }
      ]
    },
    {
      "cell_type": "markdown",
      "metadata": {
        "id": "bxFcPD25Efzn"
      },
      "source": [
        "## Analysis\n",
        "Do all the work here\n"
      ]
    },
    {
      "cell_type": "code",
      "source": [
        "def scale(X):\n",
        "    \"\"\"Scale the features to mean 0 STD 1\"\"\"\n",
        "    Xscaled = np.zeros((len(X),4))\n",
        "    for i in range(4):\n",
        "      mean = sum(X[:,i])/len(X)\n",
        "      std = np.std(X[:,i])\n",
        "      print('for feature',i,': mean = ',mean,'  std = ',std) # to track the normalization / shifting constant\n",
        "      for j in range(len(X)):\n",
        "        Xscaled[j,i] = ((X[j,i]-mean)/std)\n",
        "    return Xscaled"
      ],
      "metadata": {
        "id": "1SEDSGcdfX3Q"
      },
      "execution_count": null,
      "outputs": []
    },
    {
      "cell_type": "code",
      "source": [
        "def dist(a,b):\n",
        "    \"\"\"Returns the distance squared of numpy arrays, a is testing point\"\"\"\n",
        "    dist2 = ((a-b)**2).sum()\n",
        "    dist = np.sqrt(dist2)\n",
        "    return dist"
      ],
      "metadata": {
        "id": "f35Xm9bUcWzj"
      },
      "execution_count": null,
      "outputs": []
    },
    {
      "cell_type": "code",
      "source": [
        "#\n",
        "newX = scale(X)\n",
        "sample = newX[25]   # sample is the data that need to be classified\n",
        "#print(sample)\n",
        "close = 20\n",
        "index = 0           # index = where it's stored in the arry\n",
        "\n",
        "for i in range(len(X)):   # k = 1\n",
        "  dis = dist(sample,newX[i])\n",
        "  if close >= dis:\n",
        "    close = dis\n",
        "    index = i\n",
        "print(close,\"\\n\",index)\n",
        "print('this is the species of',data.target_names[y[index]],'!')\n",
        "\n",
        "\n",
        "\n",
        "'''\n",
        "test = newX[15]\n",
        "test2 = newX[16]\n",
        "dis = dist(test,test2)\n",
        "print(test,test2,'\\n',dis)\n",
        "print(sample)'''"
      ],
      "metadata": {
        "colab": {
          "base_uri": "https://localhost:8080/",
          "height": 160
        },
        "id": "3y2bhzr1nyyK",
        "outputId": "a97e1823-cc47-4b77-da09-ebfe3f42138d"
      },
      "execution_count": null,
      "outputs": [
        {
          "output_type": "stream",
          "name": "stdout",
          "text": [
            "for feature 0 : mean =  5.843333333333335   std =  0.8253012917851409\n",
            "for feature 1 : mean =  3.057333333333334   std =  0.4344109677354946\n",
            "for feature 2 : mean =  3.7580000000000027   std =  1.759404065775303\n",
            "for feature 3 : mean =  1.199333333333334   std =  0.7596926279021594\n",
            "0.0 \n",
            " 25\n",
            "this is the species of setosa !\n"
          ]
        },
        {
          "output_type": "execute_result",
          "data": {
            "text/plain": [
              "\"\\ntest = newX[15]\\ntest2 = newX[16]\\ndis = dist(test,test2)\\nprint(test,test2,'\\n',dis)\\nprint(sample)\""
            ],
            "application/vnd.google.colaboratory.intrinsic+json": {
              "type": "string"
            }
          },
          "metadata": {},
          "execution_count": 17
        }
      ]
    },
    {
      "cell_type": "markdown",
      "metadata": {
        "id": "F9jEpwelEfzn"
      },
      "source": [
        "## Results\n",
        "Produce the lovely plots and/or data tables that best visualization your solution"
      ]
    },
    {
      "cell_type": "code",
      "source": [
        "X_pred_norm  = np.zeros((len(X_pred),4))\n",
        "\n",
        "# scale the input dataset\n",
        "for j in range(len(X_pred)):\n",
        "  X_pred_norm[j,0] = ((X_pred[j,0]-5.843333333333335)/0.8253012917851409)\n",
        "for j in range(len(X_pred)):\n",
        "  X_pred_norm[j,1] = ((X_pred[j,1]-3.057333333333334)/0.4344109677354946)\n",
        "for j in range(len(X_pred)):\n",
        "  X_pred_norm[j,2] = ((X_pred[j,2]-3.7580000000000027)/1.759404065775303)\n",
        "for j in range(len(X_pred)):\n",
        "  X_pred_norm[j,3] = ((X_pred[j,3]-1.199333333333334)/0.7596926279021594)\n",
        "#print(X_pred_norm)\n",
        "\n",
        "# classification\n",
        "for l in range(len(X_pred_norm)):\n",
        "    index  = -1\n",
        "    close  = 20\n",
        "    for i in range(len(X)):\n",
        "      dis = dist(X_pred_norm[l],newX[i])\n",
        "      if close >= dis:\n",
        "        close = dis\n",
        "        index = i\n",
        "    print('The',l,'th species is ',data.target_names[y[index]])"
      ],
      "metadata": {
        "colab": {
          "base_uri": "https://localhost:8080/"
        },
        "id": "xPpq5ES8m1mm",
        "outputId": "1c78a31e-2751-4801-8b61-1ad18766c993"
      },
      "execution_count": null,
      "outputs": [
        {
          "output_type": "stream",
          "name": "stdout",
          "text": [
            "The 0 th species is  versicolor\n",
            "The 1 th species is  versicolor\n",
            "The 2 th species is  virginica\n",
            "The 3 th species is  versicolor\n",
            "The 4 th species is  versicolor\n",
            "The 5 th species is  versicolor\n",
            "The 6 th species is  versicolor\n",
            "The 7 th species is  versicolor\n",
            "The 8 th species is  setosa\n",
            "The 9 th species is  versicolor\n"
          ]
        }
      ]
    },
    {
      "cell_type": "code",
      "source": [
        "''' Let's see if it works '''\n",
        "# plot X_pred with the training data, after they are all sacaled\n",
        "\n",
        "# Define Custom Colors\n",
        "from matplotlib.colors import ListedColormap\n",
        "colors_bold = ['#FF0000', '#00FF00', '#0000FF']\n",
        "cmap_bold = ListedColormap(colors_bold)\n",
        "\n",
        "plt.figure(figsize=(6,6))\n",
        "plt.scatter(newX[:, 0], newX[:, 1], marker='o', c=y,s=25, cmap=cmap_bold)\n",
        "plt.plot(X_pred_norm[:,0], X_pred_norm[:,1], 'ks')\n",
        "\n",
        "for i in range(3):    # Make Custom Legend\n",
        "  plt.text(3.0,2.6-0.2*i,data.target_names[i],color=colors_bold[i])\n",
        "plt.text(3.0,2.0,'unknown',color='k')\n",
        "plt.xlabel(data.feature_names[0])\n",
        "plt.ylabel(data.feature_names[1])\n",
        "plt.title(\"Let's see if the classifictaion worked\")\n",
        "\n",
        "plt.show()\n",
        "\n",
        "\"\"\" Looks like the unknown species is setosa :) \"\"\""
      ],
      "metadata": {
        "colab": {
          "base_uri": "https://localhost:8080/",
          "height": 422
        },
        "id": "tBKZbEM4TIE0",
        "outputId": "ccea24b1-5138-44ae-c93d-c7f7217a9671"
      },
      "execution_count": null,
      "outputs": [
        {
          "output_type": "display_data",
          "data": {
            "text/plain": [
              "<Figure size 432x432 with 1 Axes>"
            ],
            "image/png": "[encoded data removed]"
          },
          "metadata": {
            "needs_background": "light"
          }
        },
        {
          "output_type": "execute_result",
          "data": {
            "text/plain": [
              "' Looks like the unknown species is setosa :) '"
            ],
            "application/vnd.google.colaboratory.intrinsic+json": {
              "type": "string"
            }
          },
          "metadata": {},
          "execution_count": 23
        }
      ]
    },
    {
      "cell_type": "markdown",
      "metadata": {
        "id": "vBH4fflWEfzo"
      },
      "source": [
        "## Discussion\n",
        "Explain and interpret your results.  Explain how your results solve the problem.  Also describe anything interesting you discovered along the way, or lessons learned, or how you overcame problems you encountered.     "
      ]
    },
    {
      "cell_type": "code",
      "source": [
        "''' YEAHHHHHH!!! '''"
      ],
      "metadata": {
        "colab": {
          "base_uri": "https://localhost:8080/",
          "height": 35
        },
        "id": "w6AHSphEWTN-",
        "outputId": "c391c455-e425-4daf-973f-5eadda0db521"
      },
      "execution_count": null,
      "outputs": [
        {
          "output_type": "execute_result",
          "data": {
            "text/plain": [
              "' YEAHHHHHH!!! '"
            ],
            "application/vnd.google.colaboratory.intrinsic+json": {
              "type": "string"
            }
          },
          "metadata": {},
          "execution_count": 22
        }
      ]
    }
  ],
  "metadata": {
    "kernelspec": {
      "display_name": "Python 3",
      "language": "python",
      "name": "python3"
    },
    "language_info": {
      "codemirror_mode": {
        "name": "ipython",
        "version": 3
      },
      "file_extension": ".py",
      "mimetype": "text/x-python",
      "name": "python",
      "nbconvert_exporter": "python",
      "pygments_lexer": "ipython3",
      "version": "3.6.10"
    },
    "colab": {
      "provenance": [],
      "include_colab_link": true
    }
  },
  "nbformat": 4,
  "nbformat_minor": 0
}